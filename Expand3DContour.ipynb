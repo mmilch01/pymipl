{
 "cells": [
  {
   "cell_type": "code",
   "execution_count": 5,
   "metadata": {},
   "outputs": [],
   "source": [
    "'''\n",
    "Author: Mikhail Milchenko, mmilchenko@wustl.edu\n",
    "Copyright (c) 2021, Computational Imaging Lab, Washington University School of Medicine\n",
    "\n",
    "Redistribution and use in source and binary forms, for any purpose, with or without modification, are permitted provided that the following conditions are met:\n",
    "\n",
    "1. Redistributions of source code must retain the above copyright notice, this list of conditions and the following disclaimer.\n",
    "2. Redistributions in binary form must reproduce the above copyright notice, this list of conditions and the following disclaimer in the documentation and/or other materials provided with the distribution.\n",
    "\n",
    "THIS SOFTWARE IS PROVIDED BY THE COPYRIGHT HOLDERS AND CONTRIBUTORS \"AS IS\" AND ANY EXPRESS OR IMPLIED WARRANTIES, INCLUDING, BUT NOT LIMITED TO, THE IMPLIED WARRANTIES OF MERCHANTABILITY AND FITNESS FOR A PARTICULAR PURPOSE ARE DISCLAIMED. IN NO EVENT SHALL THE COPYRIGHT HOLDER OR CONTRIBUTORS BE LIABLE FOR ANY DIRECT, INDIRECT, INCIDENTAL, SPECIAL, EXEMPLARY, OR CONSEQUENTIAL DAMAGES (INCLUDING, BUT NOT LIMITED TO, PROCUREMENT OF SUBSTITUTE GOODS OR SERVICES; LOSS OF USE, DATA, OR PROFITS; OR BUSINESS INTERRUPTION) HOWEVER CAUSED AND ON ANY THEORY OF LIABILITY, WHETHER IN CONTRACT, STRICT LIABILITY, OR TORT (INCLUDING NEGLIGENCE OR OTHERWISE) ARISING IN ANY WAY OUT OF THE USE OF THIS SOFTWARE, EVEN IF ADVISED OF THE POSSIBILITY OF SUCH DAMAGE.\n",
    "'''\n",
    "import argparse, numpy as np\n",
    "from scipy.spatial.distance import cdist\n",
    "import matplotlib.pyplot as plt\n"
   ]
  },
  {
   "cell_type": "code",
   "execution_count": 26,
   "metadata": {},
   "outputs": [],
   "source": [
    "def expand_3d_contour(contours,dist,imwid, imht):\n",
    "    '''\n",
    "    The coordinates are assumed to be in mm.\n",
    "    Expand by the given distance a 3D object represented by\n",
    "    a list of closed 2D contours.        \n",
    "    contours is a list of lists of array-like 3d points:\n",
    "    dim1 <-- x , dim2 <-- y, dim3 <-- z (constant), dim4 <-- point index.\n",
    "    \n",
    "    All pts in each 2D contour are assumed to have the same z value.\n",
    "    \n",
    "    Output: a list of new 2D contours (lists of 3D numpy arrays)\n",
    "    '''\n",
    "    c,c_out=contours,[]\n",
    "    imdepth=len(c)\n",
    "    \n",
    "    for z in range (imdepth):    \n",
    "        c0=np.array(c[z])\n",
    "        if z>0:\n",
    "            c_1=np.array(c[z-1])\n",
    "            d_1=np.argmin(cdist(c0,c_1),1)\n",
    "        else: \n",
    "            d_1=None\n",
    "\n",
    "        if z<imdepth-1:\n",
    "            c1=np.array(c[z+1])\n",
    "            d1=np.argmin(cdist(c0,c1),1)\n",
    "        else: \n",
    "            d1=None\n",
    "\n",
    "        co=[]\n",
    "        l=len(c0)\n",
    "        z0=c0[0][2]\n",
    "\n",
    "        for ind in range(len(c0)):\n",
    "            pt_1,pt0,pt1=c0[ ind-1 ],c0[ind],c0[ (ind+1) % l ]\n",
    "            vl,vr=pt_1-pt0, pt1-pt0\n",
    "            normals=[]\n",
    "            if d_1 is not None:\n",
    "                vd=c_1[d_1[ind]]-pt0\n",
    "                nl,nr=np.cross(vd,vl),np.cross(vr,vd)\n",
    "                normals.append(nl/np.linalg.norm(nl))\n",
    "                normals.append(nr/np.linalg.norm(nr))\n",
    "            if d1 is not None:\n",
    "                vu=c1[d1[ind]]-pt0\n",
    "                nl,nr=np.cross(vl,vu),np.cross(vu,vr)\n",
    "                normals.append(nl/np.linalg.norm(nl))\n",
    "                normals.append(nr/np.linalg.norm(nr))\n",
    "\n",
    "            normal=np.array(normals).sum(0)\n",
    "            normal/=np.linalg.norm(normal)\n",
    "            pt_new=pt0+normal*dist\n",
    "            pt_new[2]=z0 #project to the plane of the old contour\n",
    "            co.append(pt_new)\n",
    "\n",
    "        c_out.append(co)        \n",
    "        \n",
    "    return c_out    \n",
    "\n",
    "def show_contour(c):\n",
    "    x=[ pt[0] for pt in c ]\n",
    "    y=[ pt[1] for pt in c ]\n",
    "    print(x)\n",
    "    print(y)\n",
    "    plt.plot(x,y)\n",
    "        "
   ]
  },
  {
   "cell_type": "code",
   "execution_count": 27,
   "metadata": {},
   "outputs": [
    {
     "name": "stdout",
     "output_type": "stream",
     "text": [
      "Input list of contours\n"
     ]
    },
    {
     "data": {
      "text/plain": [
       "[[[2, 2, 1], [4, 2, 1], [2, 4, 1]],\n",
       " [[2, 2, 2], [2, 4, 2], [4, 4, 2], [4, 2, 2]],\n",
       " [[2.1, 1.8, 3], [2.3, 3.8, 3], [4.1, 3.8, 3], [3.5, 2.1, 3], [3, 2, 3]]]"
      ]
     },
     "execution_count": 27,
     "metadata": {},
     "output_type": "execute_result"
    }
   ],
   "source": [
    "c=[]\n",
    "\n",
    "c.append([[2,2,1],[4,2,1],[2,4,1]])\n",
    "c.append([[2,2,2],[2,4,2],[4,4,2],[4,2,2]])\n",
    "c.append([[2.1,1.8,3],[2.3,3.8,3],[4.1,3.8,3],[3.5,2.1,3],[3,2,3]])\n",
    "dist=1.0\n",
    "imwid,imht=10,10\n",
    "print (\"Input list of contours\")\n",
    "c\n"
   ]
  },
  {
   "cell_type": "code",
   "execution_count": 28,
   "metadata": {},
   "outputs": [
    {
     "name": "stdout",
     "output_type": "stream",
     "text": [
      "List of output contours\n"
     ]
    },
    {
     "data": {
      "text/plain": [
       "[[array([2.70710678, 2.70710678, 1.        ]),\n",
       "  array([3.07612047, 2.38268343, 1.        ]),\n",
       "  array([2.38268343, 3.07612047, 1.        ])],\n",
       " [array([1.29074538, 1.29588481, 2.        ]),\n",
       "  array([1.30735009, 4.70070008, 2.        ]),\n",
       "  array([4.77333539, 4.55345527, 2.        ]),\n",
       "  array([4.67537929, 1.28875239, 2.        ])],\n",
       " [array([1.43019531, 1.06185537, 3.        ]),\n",
       "  array([1.67549074, 4.50833222, 3.        ]),\n",
       "  array([4.9186797 , 4.37331323, 3.        ]),\n",
       "  array([4.0903614 , 1.38115605, 3.        ]),\n",
       "  array([3.20224588, 1.04177601, 3.        ])]]"
      ]
     },
     "execution_count": 28,
     "metadata": {},
     "output_type": "execute_result"
    }
   ],
   "source": [
    "c_out=expand_3d_contour(c,dist,imwid, imht)\n",
    "print(\"List of output contours\")\n",
    "c_out\n"
   ]
  },
  {
   "cell_type": "code",
   "execution_count": 25,
   "metadata": {},
   "outputs": [
    {
     "name": "stdout",
     "output_type": "stream",
     "text": [
      "[ 2.   0.  -0.2]\n",
      "[-0.   2.   0.4]\n",
      "[2.70534562 2.70534562 2.07053456]\n"
     ]
    }
   ],
   "source": [
    "p0=np.array([2,2,2])\n",
    "p_1=np.array([4,2,2])\n",
    "p1=np.array([2,4,2])\n",
    "pl=np.array([2.1,1.8,3])\n",
    "\n",
    "v1=p1-p0; v2=p_1-p0; vl=pl-p0;\n",
    "\n",
    "n1=np.cross(v1,vl);\n",
    "n2=np.cross(vl,v2);\n",
    "\n",
    "print(n1)\n",
    "print(n2)\n",
    "n=n1+n2; print(p0+n/np.linalg.norm(n))"
   ]
  },
  {
   "cell_type": "code",
   "execution_count": 34,
   "metadata": {},
   "outputs": [
    {
     "name": "stdout",
     "output_type": "stream",
     "text": [
      "[2.1, 2.3, 4.1, 3.5, 3]\n",
      "[1.8, 3.8, 3.8, 2.1, 2]\n"
     ]
    },
    {
     "data": {
      "image/png": "[encoded data removed]",
      "text/plain": [
       "<Figure size 432x288 with 1 Axes>"
      ]
     },
     "metadata": {
      "needs_background": "light"
     },
     "output_type": "display_data"
    }
   ],
   "source": [
    "show_contour(c[2])"
   ]
  },
  {
   "cell_type": "code",
   "execution_count": 33,
   "metadata": {},
   "outputs": [
    {
     "name": "stdout",
     "output_type": "stream",
     "text": [
      "[1.4301953060285078, 1.6754907366001706, 4.918679697317544, 4.090361403189799, 3.2022458793184203]\n",
      "[1.0618553676245404, 4.508332218011347, 4.373313232341448, 1.3811560473304585, 1.0417760133468594]\n"
     ]
    },
    {
     "data": {
      "image/png": "[encoded data removed]",
      "text/plain": [
       "<Figure size 432x288 with 1 Axes>"
      ]
     },
     "metadata": {
      "needs_background": "light"
     },
     "output_type": "display_data"
    }
   ],
   "source": [
    "show_contour(c_out[2])"
   ]
  },
  {
   "cell_type": "code",
   "execution_count": 17,
   "metadata": {},
   "outputs": [
    {
     "name": "stdout",
     "output_type": "stream",
     "text": [
      "[1.2942182514061875, 2.7026327754829396, 4.790007486446618, 3.316848970284341]\n",
      "[2.700667485989632, 4.710798965022269, 3.434612964168522, 1.2805679113518122]\n"
     ]
    },
    {
     "data": {
      "image/png": "[encoded data removed]",
      "text/plain": [
       "<Figure size 432x288 with 1 Axes>"
      ]
     },
     "metadata": {
      "needs_background": "light"
     },
     "output_type": "display_data"
    }
   ],
   "source": [
    "show_contour(c_out[1])"
   ]
  },
  {
   "cell_type": "code",
   "execution_count": 20,
   "metadata": {},
   "outputs": [
    {
     "data": {
      "text/plain": [
       "array([[1.02469508, 2.0808652 , 2.94108823, 1.80554701, 1.41421356],\n",
       "       [2.41867732, 1.06301458, 2.33452351, 2.61916017, 2.44948974],\n",
       "       [3.07408523, 1.98242276, 1.02469508, 2.20454077, 2.44948974],\n",
       "       [2.15638587, 2.67020598, 2.06155281, 1.12249722, 1.41421356]])"
      ]
     },
     "execution_count": 20,
     "metadata": {},
     "output_type": "execute_result"
    }
   ],
   "source": [
    "cdist(c[1],c[2])"
   ]
  },
  {
   "cell_type": "code",
   "execution_count": null,
   "metadata": {},
   "outputs": [],
   "source": []
  }
 ],
 "metadata": {
  "kernelspec": {
   "display_name": "Python 3",
   "language": "python",
   "name": "python3"
  },
  "language_info": {
   "codemirror_mode": {
    "name": "ipython",
    "version": 3
   },
   "file_extension": ".py",
   "mimetype": "text/x-python",
   "name": "python",
   "nbconvert_exporter": "python",
   "pygments_lexer": "ipython3",
   "version": "3.6.5"
  }
 },
 "nbformat": 4,
 "nbformat_minor": 2
}
