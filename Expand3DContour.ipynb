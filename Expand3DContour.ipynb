{
 "cells": [
  {
   "cell_type": "code",
   "execution_count": 1,
   "metadata": {},
   "outputs": [],
   "source": [
    "'''\n",
    "Author: Mikhail Milchenko, mmilchenko@wustl.edu\n",
    "Copyright (c) 2021, Computational Imaging Lab, Washington University School of Medicine\n",
    "\n",
    "Redistribution and use in source and binary forms, for any purpose, with or without modification, are permitted provided that the following conditions are met:\n",
    "\n",
    "1. Redistributions of source code must retain the above copyright notice, this list of conditions and the following disclaimer.\n",
    "2. Redistributions in binary form must reproduce the above copyright notice, this list of conditions and the following disclaimer in the documentation and/or other materials provided with the distribution.\n",
    "\n",
    "THIS SOFTWARE IS PROVIDED BY THE COPYRIGHT HOLDERS AND CONTRIBUTORS \"AS IS\" AND ANY EXPRESS OR IMPLIED WARRANTIES, INCLUDING, BUT NOT LIMITED TO, THE IMPLIED WARRANTIES OF MERCHANTABILITY AND FITNESS FOR A PARTICULAR PURPOSE ARE DISCLAIMED. IN NO EVENT SHALL THE COPYRIGHT HOLDER OR CONTRIBUTORS BE LIABLE FOR ANY DIRECT, INDIRECT, INCIDENTAL, SPECIAL, EXEMPLARY, OR CONSEQUENTIAL DAMAGES (INCLUDING, BUT NOT LIMITED TO, PROCUREMENT OF SUBSTITUTE GOODS OR SERVICES; LOSS OF USE, DATA, OR PROFITS; OR BUSINESS INTERRUPTION) HOWEVER CAUSED AND ON ANY THEORY OF LIABILITY, WHETHER IN CONTRACT, STRICT LIABILITY, OR TORT (INCLUDING NEGLIGENCE OR OTHERWISE) ARISING IN ANY WAY OUT OF THE USE OF THIS SOFTWARE, EVEN IF ADVISED OF THE POSSIBILITY OF SUCH DAMAGE.\n",
    "'''\n",
    "import argparse, numpy as np\n",
    "from scipy.spatial.distance import cdist\n"
   ]
  },
  {
   "cell_type": "code",
   "execution_count": 2,
   "metadata": {},
   "outputs": [],
   "source": [
    "def expand_3d_contour(contours,dist,imwid, imht):\n",
    "    '''\n",
    "    Expand by the given distance a 3D object represented by\n",
    "    a list of closed 2D contours.\n",
    "    contours is a list of lists of array-like 3d points\n",
    "    dim1 <-- x , dim2 <-- y, dim3 <-- z (constant), dim4 <-- point index.\n",
    "    '''\n",
    "    c,c_out=contours,[]\n",
    "    imdepth=len(c)\n",
    "    \n",
    "    for z in range (imdepth):    \n",
    "        c0=np.array(c[z])\n",
    "        if z>0:\n",
    "            c_1=np.array(c[z-1])\n",
    "            d_1=np.argmin(cdist(c0,c_1),1)\n",
    "        else: \n",
    "            d_1=None\n",
    "\n",
    "        if z<imdepth-1:\n",
    "            c1=np.array(c[z+1])\n",
    "            d1=np.argmin(cdist(c0,c1),1)\n",
    "        else: \n",
    "            d1=None\n",
    "\n",
    "        co=[]\n",
    "        l=len(c0)\n",
    "        z0=c0[0][2]\n",
    "\n",
    "        for ind in range(len(c0)):\n",
    "            pt_1,pt0,pt1=c0[ ind-1 ],c0[ind],c0[ (ind+1) % l ]\n",
    "            vl,vr=pt0-pt_1,pt1-pt0\n",
    "            normals=[]\n",
    "            if d_1 is not None:\n",
    "                vd=c_1[d_1[ind]]-pt0\n",
    "                nl,nr=np.cross(vd,vl),np.cross(vr,vd)\n",
    "                normals.append(nl/np.linalg.norm(nl))\n",
    "                normals.append(nr/np.linalg.norm(nr))\n",
    "            if d1 is not None:\n",
    "                vu=c1[d1[ind]]-pt0\n",
    "                nl,nr=np.cross(vl,vu),np.cross(vu,vr)\n",
    "                normals.append(nl/np.linalg.norm(nl))\n",
    "                normals.append(nr/np.linalg.norm(nr))\n",
    "\n",
    "            normal=np.array(normals).sum(0)\n",
    "            normal/=np.linalg.norm(normal)\n",
    "            pt_new=pt0+normal*dist\n",
    "            pt_new[2]=z0 #project to the plane of the old contour\n",
    "            co.append(pt_new)\n",
    "\n",
    "        c_out.append(co)        \n",
    "        \n",
    "    return c_out    \n"
   ]
  },
  {
   "cell_type": "code",
   "execution_count": 15,
   "metadata": {},
   "outputs": [
    {
     "name": "stdout",
     "output_type": "stream",
     "text": [
      "Input list of contours\n"
     ]
    },
    {
     "data": {
      "text/plain": [
       "[[[2, 2, 1], [4, 2, 1], [2, 4, 1]],\n",
       " [[2, 2, 2], [2, 4, 2], [4, 4, 2], [4, 2, 2]],\n",
       " [[2.1, 1.8, 3], [2.3, 3.8, 3], [4.1, 3.8, 3], [3.5, 2.1, 3], [3, 2, 3]]]"
      ]
     },
     "execution_count": 15,
     "metadata": {},
     "output_type": "execute_result"
    }
   ],
   "source": [
    "c=[]\n",
    "c.append([[2,2,1],[4,2,1],[2,4,1]])\n",
    "c.append([[2,2,2],[2,4,2],[4,4,2],[4,2,2]])\n",
    "c.append([[2.1,1.8,3],[2.3,3.8,3],[4.1,3.8,3],[3.5,2.1,3],[3,2,3]])\n",
    "dist=1.0\n",
    "imwid,imht=10,10\n",
    "print (\"Input list of contours\")\n",
    "c\n"
   ]
  },
  {
   "cell_type": "code",
   "execution_count": 16,
   "metadata": {},
   "outputs": [
    {
     "name": "stdout",
     "output_type": "stream",
     "text": [
      "List of output normals\n"
     ]
    },
    {
     "data": {
      "text/plain": [
       "[[array([1.29289322, 2.70710678, 1.        ]),\n",
       "  array([3.61731657, 1.07612047, 1.        ]),\n",
       "  array([2.92387953, 4.38268343, 1.        ])],\n",
       " [array([1.29421825, 2.70066749, 2.        ]),\n",
       "  array([2.70263278, 4.71079897, 2.        ]),\n",
       "  array([4.79000749, 3.43461296, 2.        ]),\n",
       "  array([3.31684897, 1.28056791, 2.        ])],\n",
       " [array([1.36390363, 2.44579197, 3.        ]),\n",
       "  array([3.02824595, 4.48034347, 3.        ]),\n",
       "  array([4.66589729, 3.00425086, 3.        ]),\n",
       "  array([2.82690215, 1.41056047, 3.        ]),\n",
       "  array([3.67756668, 2.28601887, 3.        ])]]"
      ]
     },
     "execution_count": 16,
     "metadata": {},
     "output_type": "execute_result"
    }
   ],
   "source": [
    "c_out=expand_3d_contour(c,dist,imwid, imht)\n",
    "print(\"List of output normals\")\n",
    "c_out\n"
   ]
  },
  {
   "cell_type": "code",
   "execution_count": null,
   "metadata": {},
   "outputs": [],
   "source": []
  }
 ],
 "metadata": {
  "kernelspec": {
   "display_name": "Python 3",
   "language": "python",
   "name": "python3"
  },
  "language_info": {
   "codemirror_mode": {
    "name": "ipython",
    "version": 3
   },
   "file_extension": ".py",
   "mimetype": "text/x-python",
   "name": "python",
   "nbconvert_exporter": "python",
   "pygments_lexer": "ipython3",
   "version": "3.6.5"
  }
 },
 "nbformat": 4,
 "nbformat_minor": 2
}
