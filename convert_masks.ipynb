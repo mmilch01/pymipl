{
 "cells": [
  {
   "cell_type": "code",
   "execution_count": 40,
   "metadata": {},
   "outputs": [],
   "source": [
    "import nibabel as nib, numpy as np, argparse\n",
    "\n",
    "fil='/home/shared/NRG/mmilchenko/DBS_STN/res/atlas/MNI152_T1_0.5mm.nii'\n",
    "fil1='./mask_kidney.nii.gz'\n",
    "#fil2="
   ]
  },
  {
   "cell_type": "code",
   "execution_count": 39,
   "metadata": {},
   "outputs": [],
   "source": [
    "img=nib.load(fil)\n",
    "imga=img.get_fdata()\n",
    "imga[182,:,182]=1"
   ]
  },
  {
   "cell_type": "code",
   "execution_count": 31,
   "metadata": {},
   "outputs": [],
   "source": [
    "img1=nib.Nifti1Image(imga,None,header=img.header)\n"
   ]
  },
  {
   "cell_type": "code",
   "execution_count": 36,
   "metadata": {},
   "outputs": [
    {
     "data": {
      "text/plain": [
       "0.0"
      ]
     },
     "execution_count": 36,
     "metadata": {},
     "output_type": "execute_result"
    }
   ],
   "source": [
    "img1.get_fdata()[182,3,181]"
   ]
  },
  {
   "cell_type": "code",
   "execution_count": 37,
   "metadata": {},
   "outputs": [],
   "source": [
    "nib.save(img1,'./test.nii')"
   ]
  },
  {
   "cell_type": "code",
   "execution_count": 26,
   "metadata": {},
   "outputs": [
    {
     "name": "stderr",
     "output_type": "stream",
     "text": [
      "/home/shared/NRG/mmilchenko/lib/python3-tensorflow/lib/python3.6/site-packages/ipykernel_launcher.py:1: DeprecationWarning: _data attribute not part of public API. please use \"dataobj\" property instead.\n",
      "\n",
      "* deprecated from version: 2.0\n",
      "* Will raise <class 'nibabel.deprecator.ExpiredDeprecationError'> as of version: 4.0\n",
      "  \"\"\"Entry point for launching an IPython kernel.\n"
     ]
    }
   ],
   "source": [
    "methods = [method_name for method_name in dir(img) if callable(getattr(img, method_name))]"
   ]
  },
  {
   "cell_type": "code",
   "execution_count": 27,
   "metadata": {},
   "outputs": [
    {
     "data": {
      "text/plain": [
       "['ImageArrayProxy',\n",
       " 'ImageSlicer',\n",
       " '__class__',\n",
       " '__delattr__',\n",
       " '__dir__',\n",
       " '__eq__',\n",
       " '__format__',\n",
       " '__ge__',\n",
       " '__getattribute__',\n",
       " '__getitem__',\n",
       " '__gt__',\n",
       " '__hash__',\n",
       " '__init__',\n",
       " '__init_subclass__',\n",
       " '__le__',\n",
       " '__lt__',\n",
       " '__ne__',\n",
       " '__new__',\n",
       " '__reduce__',\n",
       " '__reduce_ex__',\n",
       " '__repr__',\n",
       " '__setattr__',\n",
       " '__sizeof__',\n",
       " '__str__',\n",
       " '__subclasshook__',\n",
       " '_affine2header',\n",
       " '_get_fileholders',\n",
       " '_sniff_meta_for',\n",
       " 'as_reoriented',\n",
       " 'filespec_to_file_map',\n",
       " 'filespec_to_files',\n",
       " 'from_bytes',\n",
       " 'from_file_map',\n",
       " 'from_filename',\n",
       " 'from_files',\n",
       " 'from_image',\n",
       " 'get_affine',\n",
       " 'get_data',\n",
       " 'get_data_dtype',\n",
       " 'get_fdata',\n",
       " 'get_filename',\n",
       " 'get_header',\n",
       " 'get_qform',\n",
       " 'get_sform',\n",
       " 'get_shape',\n",
       " 'header_class',\n",
       " 'instance_to_filename',\n",
       " 'load',\n",
       " 'make_file_map',\n",
       " 'orthoview',\n",
       " 'path_maybe_image',\n",
       " 'set_data_dtype',\n",
       " 'set_filename',\n",
       " 'set_qform',\n",
       " 'set_sform',\n",
       " 'to_bytes',\n",
       " 'to_file_map',\n",
       " 'to_filename',\n",
       " 'to_files',\n",
       " 'to_filespec',\n",
       " 'uncache',\n",
       " 'update_header']"
      ]
     },
     "execution_count": 27,
     "metadata": {},
     "output_type": "execute_result"
    }
   ],
   "source": [
    "methods"
   ]
  },
  {
   "cell_type": "code",
   "execution_count": null,
   "metadata": {},
   "outputs": [],
   "source": []
  }
 ],
 "metadata": {
  "kernelspec": {
   "display_name": "Python 3",
   "language": "python",
   "name": "python3"
  },
  "language_info": {
   "codemirror_mode": {
    "name": "ipython",
    "version": 3
   },
   "file_extension": ".py",
   "mimetype": "text/x-python",
   "name": "python",
   "nbconvert_exporter": "python",
   "pygments_lexer": "ipython3",
   "version": "3.6.5"
  }
 },
 "nbformat": 4,
 "nbformat_minor": 2
}
