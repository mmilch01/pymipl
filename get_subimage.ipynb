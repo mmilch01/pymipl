{
 "cells": [
  {
   "cell_type": "markdown",
   "metadata": {},
   "source": [
    "Redistribution and use in source and binary forms, with or without modification, are permitted provided that the following conditions are met:\n",
    "\n",
    "1. Redistributions of source code must retain the above copyright notice, this list of conditions and the following disclaimer.\n",
    "2. Redistributions in binary form must reproduce the above copyright notice, this list of conditions and the following disclaimer in the documentation and/or other materials provided with the distribution.\n",
    "\n",
    "THIS SOFTWARE IS PROVIDED BY THE COPYRIGHT HOLDERS AND CONTRIBUTORS \"AS IS\" AND ANY EXPRESS OR IMPLIED WARRANTIES, INCLUDING, BUT NOT LIMITED TO, THE IMPLIED WARRANTIES OF MERCHANTABILITY AND FITNESS FOR A PARTICULAR PURPOSE ARE DISCLAIMED. IN NO EVENT SHALL THE COPYRIGHT HOLDER OR CONTRIBUTORS BE LIABLE FOR ANY DIRECT, INDIRECT, INCIDENTAL, SPECIAL, EXEMPLARY, OR CONSEQUENTIAL DAMAGES (INCLUDING, BUT NOT LIMITED TO, PROCUREMENT OF SUBSTITUTE GOODS OR SERVICES; LOSS OF USE, DATA, OR PROFITS; OR BUSINESS INTERRUPTION) HOWEVER CAUSED AND ON ANY THEORY OF LIABILITY, WHETHER IN CONTRACT, STRICT LIABILITY, OR TORT (INCLUDING NEGLIGENCE OR OTHERWISE) ARISING IN ANY WAY OUT OF THE USE OF THIS SOFTWARE, EVEN IF ADVISED OF THE POSSIBILITY OF SUCH DAMAGE."
   ]
  },
  {
   "cell_type": "code",
   "execution_count": 1,
   "metadata": {},
   "outputs": [],
   "source": [
    "import os,sys,numpy as np,skimage,nibabel as nib, nibabel.processing, nibabel.funcs\n",
    "'''\n",
    "import sys\n",
    "import numpy as np\n",
    "import ntpath\n",
    "import warnings\n",
    "import tempfile\n",
    "import struct\n",
    "import copy\n",
    "import gc\n",
    "import shutil\n",
    "'''\n",
    "from skimage import measure, filters, morphology\n",
    "from skimage.transform import rescale, resize"
   ]
  },
  {
   "cell_type": "code",
   "execution_count": 2,
   "metadata": {},
   "outputs": [],
   "source": [
    "def get_cube_type(max_size):\n",
    "    tum_size_map=[\n",
    "        {'range':[0,5],'cube_dim':15,'label':'small'},\n",
    "        {'range':[5,10],'cube_dim':20,'label':'medium'},\n",
    "        {'range':[10,20],'cube_dim':30,'label':'large'},\n",
    "        {'range':[20,60],'cube_dim':70,'label':'ex_large'}\n",
    "    ]\n",
    "    for e in tum_size_map:\n",
    "        rng=e['range']\n",
    "        if max_size>=rng[0] and max_size<rng[1]: return e\n",
    "    return None\n",
    "    \n",
    "def resample_image_111(img_in,is_mask):\n",
    "    order=0 if is_mask else 3\n",
    "    return nib.processing.resample_to_output(img_in,[1,1,1],order=order)\n",
    "\n",
    "def conform_image_111(img_in,img_ref,is_mask):\n",
    "    order=0 if is_mask else 3\n",
    "    return nibabel.processing.conform(img_in,img_ref.shape,voxel_size=(1.0,1.0,1.0),order=order)\n",
    "\n",
    "def split_image(file_im,files_masks):\n",
    "    try:\n",
    "        im0=nib.load(file_im)\n",
    "        if len(im0.shape)<3 or len(im0.shape)>4:\n",
    "            print('input image shape is <3 or >4!'); return None      \n",
    "        if len(im0.shape)==4:\n",
    "            im=resample_image_111(nibabel.funcs.four_to_three(im0)[0],False)\n",
    "        else:\n",
    "            im=resample_image_111(im0,False)           \n",
    "        masks=[]\n",
    "        for mf in files_masks:\n",
    "            msk=nib.load(mf)\n",
    "            if msk.shape[:3] != im0.shape[:3]:\n",
    "                print('ERROR: Dimensions of input file {} and mask {} do not match!'.format(im.shape,msk.shape))\n",
    "                return None\n",
    "            masks+=[conform_image_111(msk,im,True)]\n",
    "        return im,masks\n",
    "    except:\n",
    "        print('ERROR: cannot read input file(s)')\n",
    "        print(sys.exc_info()[1])\n",
    "        return None\n",
    "       \n",
    "def get_subimages(img,mask):\n",
    "    props=skimage.measure.regionprops(mask.get_fdata().astype('int'))\n",
    "    bb=props[0].bbox\n",
    "    bb_range=[(bb[i],bb[i+3]) for i in range(0,3) ]\n",
    "    bb_center=[ bb_range[i][0]+(bb_range[i][1]-bb_range[i][0])/2 for i in range (0,3) ]\n",
    "    \n",
    "    #print('bbox',bb_range)\n",
    "    dims=np.array([bb[3]-bb[0],bb[4]-bb[1],bb[5]-bb[2]]).astype('int')\n",
    "    #print('bbox size:',dims)\n",
    "    #print('bbox center:',bb_center)\n",
    "    \n",
    "    tp=get_cube_type(dims.max())\n",
    "    if tp is None: return None,None\n",
    "    \n",
    "    cube_dim=tp['cube_dim']\n",
    "    #print('cube_dim',cube_dim)\n",
    " \n",
    "    rng=[]\n",
    "    for i in range (3):\n",
    "        d0=int(bb_center[i]-(cube_dim/2))\n",
    "        d1=int(d0+cube_dim)\n",
    "        #print('axis',i,'bounds',d0,d1)\n",
    "        rng+=[[d0,d1]]\n",
    " \n",
    "    print('output region:', rng)\n",
    "    return nifti_subimage_111(img,rng,False),nifti_subimage_111(mask,rng,True)\n",
    "\n",
    "#bounds are a 2d array [[st,en],[st,en],[st,en]]\n",
    "def nifti_subimage_111(img,bounds,is_mask):\n",
    "    voxels=img.get_fdata()\n",
    "    ish=np.array(voxels.shape)\n",
    "    dims=np.array([bounds[i][1]-bounds[i][0] for i in range(3)])\n",
    "    \n",
    "    subim=np.zeros(dims)\n",
    "    ist,ien=[0,0,0],[0,0,0]\n",
    "    sst,sen=[0,0,0],[0,0,0]\n",
    "    \n",
    "    for i in range(3):\n",
    "        i0,i1=0,ish[i]\n",
    "        s0,s1=bounds[i][0],bounds[i][1]\n",
    "        if s1<i0 or s0>i1: print('exiting'); return None #the sub-range is outside original image\n",
    "        ist[i]=s0 if s0>=i0 else 0\n",
    "        ien[i]=s1 if s1<=i1 else i1\n",
    "        sst[i]=0 if s0>=i0 else i0-s0\n",
    "        sen[i]=dims[i] if s1<=i1 else dims[i]-(s1-i1)\n",
    "    \n",
    "    subim[sst[0]:sen[0],sst[1]:sen[1],sst[2]:sen[2]]=voxels[ist[0]:ien[0],ist[1]:ien[1],ist[2]:ien[2]]\n",
    "    img=nib.nifti1.Nifti1Image(subim,np.eye(4))\n",
    "    #print (\"image shape\", ish, \"subrange\", bounds, \"sst\", sst, \"sen\", sen,\"ist\",ist,\"ien\",ien)\n",
    "    return img\n",
    "        "
   ]
  },
  {
   "cell_type": "code",
   "execution_count": null,
   "metadata": {},
   "outputs": [],
   "source": []
  },
  {
   "cell_type": "code",
   "execution_count": 231,
   "metadata": {},
   "outputs": [],
   "source": [
    "d='/data/TMORPH/I3CR/MW101_MR_tx1_GK/'\n",
    "fim='gk2'\n",
    "fmasks=['gk2_struct_Tum1_LFront','gk2_struct_Tum2_Vermis','gk2_struct_Tum3_RFront']\n",
    "im,masks=split_image(d+fim+'.nii',[ d+f+'.nii' for f in fmasks ])\n",
    "\n",
    "\n"
   ]
  },
  {
   "cell_type": "code",
   "execution_count": 223,
   "metadata": {},
   "outputs": [],
   "source": [
    "im.to_filename(d+'gk2_test.nii')\n",
    "masks[0].to_filename(d+'gk2_mask_test.nii')"
   ]
  },
  {
   "cell_type": "code",
   "execution_count": 232,
   "metadata": {},
   "outputs": [
    {
     "name": "stdout",
     "output_type": "stream",
     "text": [
      "output region: [[48, 118], [85, 155], [67, 137]]\n",
      "output region: [[117, 137], [86, 106], [39, 59]]\n",
      "output region: [[131, 151], [155, 175], [53, 73]]\n"
     ]
    }
   ],
   "source": [
    "for i in range(len(fmasks)):\n",
    "    subim,submask=get_subimages(im,masks[i])\n",
    "    subim.to_filename(d+fim+'_'+fmasks[i])\n",
    "    submask.to_filename(d+fmasks[i]+'_sub.nii')\n",
    "    \n",
    "    "
   ]
  },
  {
   "cell_type": "code",
   "execution_count": null,
   "metadata": {},
   "outputs": [],
   "source": []
  }
 ],
 "metadata": {
  "kernelspec": {
   "display_name": "Python 3",
   "language": "python",
   "name": "python3"
  },
  "language_info": {
   "codemirror_mode": {
    "name": "ipython",
    "version": 3
   },
   "file_extension": ".py",
   "mimetype": "text/x-python",
   "name": "python",
   "nbconvert_exporter": "python",
   "pygments_lexer": "ipython3",
   "version": "3.6.4"
  }
 },
 "nbformat": 4,
 "nbformat_minor": 2
}
