{
 "cells": [
  {
   "cell_type": "code",
   "execution_count": 23,
   "metadata": {},
   "outputs": [
    {
     "name": "stdout",
     "output_type": "stream",
     "text": [
      "The autoreload extension is already loaded. To reload it, use:\n",
      "  %reload_ext autoreload\n"
     ]
    }
   ],
   "source": [
    "import matplotlib.image as mpimg\n",
    "import matplotlib.pyplot as plt\n",
    "import matplotlib.image as mpimg\n",
    "import nibabel as nib\n",
    "import numpy as np\n",
    "\n",
    "%load_ext autoreload\n",
    "%autoreload 2"
   ]
  },
  {
   "cell_type": "code",
   "execution_count": 12,
   "metadata": {},
   "outputs": [],
   "source": [
    "ref=nib.load('/data/temp/dcm2niix_image.nii')\n",
    "ref1=nib.load('/data/temp/dataconvert_image.nii')"
   ]
  },
  {
   "cell_type": "code",
   "execution_count": 32,
   "metadata": {},
   "outputs": [],
   "source": [
    "flips=np.sign(ref.affine)\n",
    "im1=ref.as_reoriented([[0,flips[0,0]],[1,flips[1,1]],[2,flips[2,2]]])\n",
    "flips=np.sign(ref1.affine)\n",
    "im2=ref1.as_reoriented([[0,flips[0,0]],[1,flips[1,1]],[2,flips[2,2]]])\n",
    "#print(ref.affine[2][2])\n",
    "#print(ref.as_reoriented())"
   ]
  },
  {
   "cell_type": "code",
   "execution_count": 35,
   "metadata": {},
   "outputs": [],
   "source": [
    "im1.to_filename('/data/temp/dcm2niix_image_unflip.nii')\n",
    "im2.to_filename('/data/temp/dataconvert_image_unflip.nii')"
   ]
  },
  {
   "cell_type": "code",
   "execution_count": 34,
   "metadata": {},
   "outputs": [
    {
     "name": "stdout",
     "output_type": "stream",
     "text": [
      "<class 'nibabel.nifti1.Nifti1Image'>\n",
      "data shape (512, 512, 166)\n",
      "affine: \n",
      "[[   0.67773438    0.            0.         -190.16113281]\n",
      " [   0.            0.67773438    0.          -18.16113281]\n",
      " [   0.            0.            2.          325.        ]\n",
      " [   0.            0.            0.            1.        ]]\n",
      "metadata:\n",
      "<class 'nibabel.nifti1.Nifti1Header'> object, endian='<'\n",
      "sizeof_hdr      : 348\n",
      "data_type       : b''\n",
      "db_name         : b''\n",
      "extents         : 0\n",
      "session_error   : 0\n",
      "regular         : b'r'\n",
      "dim_info        : 0\n",
      "dim             : [  3 512 512 166   1   1   1   1]\n",
      "intent_p1       : 0.0\n",
      "intent_p2       : 0.0\n",
      "intent_p3       : 0.0\n",
      "intent_code     : none\n",
      "datatype        : int16\n",
      "bitpix          : 16\n",
      "slice_start     : 0\n",
      "pixdim          : [1.        0.6777344 0.6777344 2.        0.        0.        0.\n",
      " 0.       ]\n",
      "vox_offset      : 0.0\n",
      "scl_slope       : nan\n",
      "scl_inter       : nan\n",
      "slice_end       : 0\n",
      "slice_code      : unknown\n",
      "xyzt_units      : 2\n",
      "cal_max         : 0.0\n",
      "cal_min         : 0.0\n",
      "slice_duration  : 0.0\n",
      "toffset         : 0.0\n",
      "glmax           : 0\n",
      "glmin           : 0\n",
      "descrip         : b''\n",
      "aux_file        : b''\n",
      "qform_code      : unknown\n",
      "sform_code      : aligned\n",
      "quatern_b       : 0.0\n",
      "quatern_c       : 0.0\n",
      "quatern_d       : 0.0\n",
      "qoffset_x       : -190.16113\n",
      "qoffset_y       : -18.161133\n",
      "qoffset_z       : 325.0\n",
      "srow_x          : [   0.6777344    0.           0.        -190.16113  ]\n",
      "srow_y          : [  0.          0.6777344   0.        -18.161133 ]\n",
      "srow_z          : [  0.   0.   2. 325.]\n",
      "intent_name     : b''\n",
      "magic           : b'n+1'\n"
     ]
    }
   ],
   "source": [
    "print(im2)"
   ]
  },
  {
   "cell_type": "code",
   "execution_count": 21,
   "metadata": {},
   "outputs": [],
   "source": [
    "def get_slice(r):\n",
    "    if isinstance(r[0],list):\n",
    "        return slice(r[0][0],r[0][1]),slice(r[1][0],r[1][1]),slice(r[2][0],r[2][1])\n",
    "    else:\n",
    "        return slice(0,r[0]),slice(0,r[1]),slice(0,r[2])\n",
    "\n",
    "def subimage2image(sub_image,ref_image,json_header,is_mask=True, overlay=False):\n",
    "    sub,ref,js=sub_image,ref_image,json_header\n",
    "    #debug\n",
    "    #sub.to_filename('/data/temp/sub.nii')\n",
    "    #ref.to_filename('/data/temp/ref')\n",
    "    print(js)\n",
    "    \n",
    "    #1. Create a resampled copy of the reference image.   \n",
    "    d=np.zeros(js['scaled_src_dims'])\n",
    "    #2. Init source and target ranges\n",
    "    ssrc=get_slice(js['scaled_src_range'])\n",
    "    starg=get_slice(js['targ_range'])\n",
    "    \n",
    "    d[ssrc]=sub.get_fdata()[starg]\n",
    "    ref_sampled_im=nib.Nifti1Image(d,np.diag(np.sign(np.diagonal(ref_image.affine))))\n",
    "    #debug\n",
    "    #ref_sampled_im.to_filename('/data/temp/ref_sampled_im')    \n",
    "    pd=ref._header['pixdim']\n",
    "    \n",
    "    #interpolation order\n",
    "    order=0 if is_mask else 3\n",
    "    res=nibabel.processing.conform(ref_sampled_im,ref.shape,voxel_size=(pd[1],pd[2],pd[3]),order=order)\n",
    "    res.set_sform(ref.affine)\n",
    "    #print(res.affine)\n",
    "    return res\n"
   ]
  },
  {
   "cell_type": "code",
   "execution_count": 22,
   "metadata": {},
   "outputs": [
    {
     "name": "stdout",
     "output_type": "stream",
     "text": [
      "{'scaled_src_dims': [257, 257, 159], 'targ_range': [[0, 70], [0, 70], [0, 70]], 'scaled_src_range': [[48, 118], [85, 155], [67, 137]]}\n",
      "[[-1.00000000e+00 -2.05103490e-10  0.00000000e+00  1.25288139e+02]\n",
      " [ 2.05103490e-10 -1.00000000e+00  0.00000000e+00  1.65966095e+02]\n",
      " [ 0.00000000e+00  0.00000000e+00  2.50000000e+00 -5.56991539e+01]\n",
      " [ 0.00000000e+00  0.00000000e+00  0.00000000e+00  1.00000000e+00]]\n"
     ]
    }
   ],
   "source": [
    "res=subimage2image(subim,ref,hdr)\n",
    "res.to_filename('/data/TMORPH/I3CR/MW101_MR_tx1_GK/test/out_Tum1_LFront_orig_space.nii')\n"
   ]
  }
 ],
 "metadata": {
  "kernelspec": {
   "display_name": "Python 3",
   "language": "python",
   "name": "python3"
  },
  "language_info": {
   "codemirror_mode": {
    "name": "ipython",
    "version": 3
   },
   "file_extension": ".py",
   "mimetype": "text/x-python",
   "name": "python",
   "nbconvert_exporter": "python",
   "pygments_lexer": "ipython3",
   "version": "3.6.5"
  }
 },
 "nbformat": 4,
 "nbformat_minor": 2
}
