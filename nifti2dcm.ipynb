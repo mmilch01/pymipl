{
 "cells": [
  {
   "cell_type": "code",
   "execution_count": 2,
   "metadata": {},
   "outputs": [],
   "source": [
    "import os, pydicom, argparse\n",
    "import nibabel as nib\n",
    "import numpy as np\n",
    "import ipywidgets as ipw\n",
    "import itertools as it\n",
    "\n",
    "def sort_dcms_by_slice_pos(input_dicom_path,dcm_files,stop_before_pixels=True):\n",
    "    '''\n",
    "    Sort DICOMs from an input directory (assumed to contain a single study) according to slice position\n",
    "    Output: a sorted list of DICOM datasets\n",
    "    '''\n",
    "    dcmss=[]\n",
    "    for idx,dcm in enumerate(dcm_files):\n",
    "        ds = pydicom.dcmread(os.path.join(input_dicom_path,dcm), stop_before_pixels)\n",
    "        if idx==0:           \n",
    "            if 'ImagePositionPatient' in ds: sortTag='ImagePositionPatient'\n",
    "            elif 'SliceLocation' in ds: sortTag='SliceLocation'\n",
    "            else: return None\n",
    "        if not sortTag in ds: return None\n",
    "        if sortTag=='ImagePositionPatient': z=ds.ImagePositionPatient[2]\n",
    "        else: z=ds.SliceLocation\n",
    "        dcmss+=[dict(file=dcm,dataset=ds,z=z)]\n",
    "    return sorted(dcmss, key=lambda dcms: dcms['z'])\n",
    "\n",
    "def voxel_array_from_sorted_dicoms(dicomsSorted):\n",
    "    '''\n",
    "    extract the 3D voxel array from a list of sorted DICOM objects.\n",
    "    '''\n",
    "    ind=0\n",
    "    \n",
    "    if len(dicomsSorted) < 1: return None\n",
    "    ds0=dicomsSorted[0]['dataset']\n",
    "    \n",
    "    imwidth,imheight,imdepth=ds0.Rows,ds0.Columns,len(dicomsSorted)\n",
    "    pixeldata_type=ds0.pixel_array.dtype\n",
    "    voxels=np.zeros([imwidth,imheight,imdepth],dtype=pixeldata_type)\n",
    "    \n",
    "    for i in range(len(dicomsSorted)):\n",
    "        voxels[:,:,i]=np.transpose(dicomsSorted[i]['dataset'].pixel_array)\n",
    "        \n",
    "    return voxels\n",
    "\n",
    "\n",
    "def get_D(dcm_slice):\n",
    "    ds=dcm_slice\n",
    "    try:\n",
    "        S,X,delta=np.array(ds.ImagePositionPatient),np.array(ds.ImageOrientationPatient),\\\n",
    "            np.array(ds.PixelSpacing)\n",
    "        if len(S)<3 or len(X)<6 or len(delta)<2:\n",
    "            raise ValueError('Incorrect orientation tag length')\n",
    "            \n",
    "        #Equation C.7.6.2.1-1 (dicom.nema.org)\n",
    "        D=np.array([[X[0]*delta[0],X[3]*delta[1],0,S[0]],\\\n",
    "                    [X[1]*delta[0],X[4]*delta[1],0,S[1]],\\\n",
    "                    [X[2]*delta[0],X[5]*delta[1],0,S[2]],\\\n",
    "                    [0,0,0,1]])\n",
    "    except Exception as e:\n",
    "        print('ERROR: cannot establish correspondence between reference frames due to missing orientation information in DICOM')\n",
    "        print(e)\n",
    "        return None    \n",
    "    return D\n",
    "\n",
    "def get_dcm_xform(nifti_voxels,dcm_slice0, dcm_slice1):\n",
    "    nii,ds0,ds1=nifti_voxels,dcm_slice0, dcm_slice1\n",
    "    try:\n",
    "        IP,IO,PS=np.array(ds.ImagePositionPatient),np.array(ds.ImageOrientationPatient),\\\n",
    "            np.array(ds.PixelSpacing)\n",
    "        IO1,IO2=IO[:3],IO[3:]\n",
    "        R=np.array[IO1,IO2,np.cross(IO1,IO2)]\n",
    "        M=np.argmax(np.abs(R),0)\n",
    "        \n",
    "    \n",
    "def populate_pixeldata(nifti_voxels, dcm_slice, inverse_qform):\n",
    "    '''\n",
    "    populate pixel data in DICOM slice from nifti voxels.\n",
    "    voxel intensity is determined from scanner-patient coordinates inferred from DICOM and nifti's qform.\n",
    "    nifti_voxels: Nifti1Image.get_fdata()\n",
    "    dcm_slice: DicomDataset representing single slice\n",
    "    inverse_qform: inverse qform (or affine) of Nifti1Image\n",
    "    '''    \n",
    "    nii,ds,Qi=nifti_voxels,dcm_slice,inverse_qform\n",
    "    \n",
    "    try:\n",
    "        S,X,delta=np.array(ds.ImagePositionPatient),np.array(ds.ImageOrientationPatient),\\\n",
    "            np.array(ds.PixelSpacing)\n",
    "        if len(S)<3 or len(X)<6 or len(delta)<2:\n",
    "            raise ValueError('Incorrect orientation tag length')\n",
    "            \n",
    "        #Equation C.7.6.2.1-1 (dicom.nema.org)\n",
    "        D=np.array([[X[0]*delta[0],X[3]*delta[1],0,S[0]],\\\n",
    "                    [X[1]*delta[0],X[4]*delta[1],0,S[1]],\\\n",
    "                    [X[2]*delta[0],X[5]*delta[1],0,S[2]],\\\n",
    "                    [0,0,0,1]])\n",
    "        print(D)\n",
    "    except Exception as e:\n",
    "        print('ERROR: cannot establish correspondence between reference frames due to missing orientation information in DICOM')\n",
    "        print(e)\n",
    "        return False\n",
    "    \n",
    "    rows,cols=ds.Rows,ds.Columns\n",
    "    QiD=np.dot(Qi,D)\n",
    "    print('Qi',Qi)\n",
    "    print('D',D)\n",
    "    print('QiD',QiD)\n",
    "    zind=np.array([0,0,0,0])\n",
    "    maxind=np.append(np.array(nii.shape),2)\n",
    "\n",
    "    slice_voxels=np.zeros([cols,rows]).astype(nii.dtype)\n",
    "    \n",
    "    for i,j in it.product(range(rows),range(cols)):\n",
    "        ind_nii=np.rint(np.dot(QiD,np.array([i,j,0,1]))).astype('int')\n",
    "        #print(\"i:{} j:{} nifti_index:{}\".format(i,j,ind_nii))\n",
    "        if (zind<=ind_nii).all() and (ind_nii<maxind).all(): \n",
    "            slice_voxels[i,j]=nii[ind_nii[0],ind_nii[1],ind_nii[2]]\n",
    " #          print(i,j,nii[ind_nii[0],ind_nii[1],ind_nii[2]],ind_nii)\n",
    " #       else: \n",
    " #          print('voxel index outside range!')\n",
    " #          print(i,j,ind_nii)\n",
    " #          break\n",
    "        \n",
    "    ds.PixelData=slice_voxels.tobytes()\n",
    "    \n",
    "def compute_flips(affine):\n",
    "    Q=affine\n",
    "    F=np.array([[-1,0,0,0],[0,-1,0,0],[0,0,-1,1]])   \n",
    "#   M=np.argmax(np.abs(Q),0)\n",
    "    FQ=np.dot(F,Q)\n",
    "    return np.array([[0,-1*np.sign(Q[M[0],0])],[1,-1*np.sign(Q[M[1],1])],[2,np.sign(Q[M[2],2])]])\n",
    "    \n",
    "\n",
    "\n",
    "    "
   ]
  },
  {
   "cell_type": "code",
   "execution_count": 3,
   "metadata": {},
   "outputs": [
    {
     "name": "stdout",
     "output_type": "stream",
     "text": [
      "[Errno 17] File exists: '/home/shared/NRG/mmilchenko/REGTEST/TCGA/t1hi/1001-POST_COR_CL-35509/nifti2dcm_test/raw_nifti2dcm_test'\n"
     ]
    }
   ],
   "source": [
    "#input variables\n",
    "input_nifti='/home/shared/NRG/mmilchenko/TMORPH/I3CR/MW101_MR_tx1_GK/test/gk2_struct_Tum1_LFront.nii'\n",
    "input_dcm='/home/shared/NRG/mmilchenko/TMORPH/I3CR/MW101_MR_tx1_GK/test/study2'\n",
    "output_dcm='/home/shared/NRG/mmilchenko/TMORPH/I3CR/MW101_MR_tx1_GK/test/gk2_struct_Tum1_LFront_on_study2'\n",
    "\n",
    "#d='/home/shared/NRG/mmilchenko/REGTEST/TCGA/t1hi/9-AXIAL_T1_PRE-GAD.-05309/'\n",
    "#input_nifti=d+'nifti2dcm_test/raw.nii'\n",
    "#input_dcm=d+'raw'\n",
    "#output_dcm=d+'nifti2dcm_test/raw_nifti2dcm_test'\n",
    "#d1='1001-POST_COR_CL-55083/'\n",
    "\n",
    "d1='1001-POST_COR_CL-35509/'\n",
    "d0='/home/shared/NRG/mmilchenko/REGTEST/TCGA/t1hi/'\n",
    "input_nifti=d0+d1+'nifti2dcm_test/raw.nii'\n",
    "input_dcm=d0+d1+'raw'\n",
    "output_dcm=d0+d1+'nifti2dcm_test/raw_nifti2dcm_test'\n",
    "#print(d0+d1)\n",
    "\n",
    "\n",
    "try:\n",
    "    os.mkdir(output_dcm)\n",
    "except OSError as error:\n",
    "    print(error)      \n",
    "\n",
    "newSeriesInstanceUID='auto'\n",
    "newSeriesDescription='series generated by nifti2dcm'\n",
    "newSeriesNumber='2001'\n",
    "\n",
    "isSC=False #not supported\n",
    "flipX,flipY,flipZ=False,False,False\n"
   ]
  },
  {
   "cell_type": "code",
   "execution_count": 143,
   "metadata": {},
   "outputs": [
    {
     "name": "stdout",
     "output_type": "stream",
     "text": [
      "(512, 512)\n",
      "[[ 0.  1.]\n",
      " [ 1. -1.]\n",
      " [ 2. -1.]] flips\n",
      "(512, 512)\n",
      "[[ -0.46875    0.        -0.       123.039513]\n",
      " [ -0.         0.026375  -5.990502  64.402771]\n",
      " [  0.         0.468007   0.337599 -99.866776]\n",
      " [  0.         0.         0.         1.      ]] Q form\n",
      "[[ -0.46875    0.         0.       123.039513]\n",
      " [  0.        -0.026375   5.990502 -65.891714]\n",
      " [  0.        -0.468007  -0.337599 147.387369]\n",
      " [  0.         0.         0.         1.      ]] Q form reoriented:\n",
      "(512, 512, 25)\n",
      "(512, 512, 25)\n"
     ]
    }
   ],
   "source": [
    "#load NIFTI image\n",
    "#nii=nib.load(input_nifti)\n",
    "nii=nib.load(input_nifti)\n",
    "\n",
    "#store to DICOM orientation\n",
    "nii.header.set_dim_info(None,None,None)\n",
    "print(nii.get_fdata()[:,:,0].shape)\n",
    "flips=compute_flips(nii.affine) #np.sign(nii0.affine)\n",
    "print(flips,'flips')\n",
    "\n",
    "nii0=nii.as_reoriented(flips)\n",
    "\n",
    "#nii0=nii.as_reoriented(([[0,1],[1,-1],[2,-1]]))\n",
    "print(nii0.get_fdata()[:,:,0].shape)\n",
    "\n",
    "\n",
    "#am=np.argmax(np.abs(nii0.affine),0)\n",
    "np.set_printoptions(6,suppress=True)\n",
    "\n",
    "#Q-form, transform from NIFTI coordinates to scanner coordinates\n",
    "Q=nii.affine\n",
    "Q1=nii0.affine\n",
    "Qi=np.linalg.inv(Q)\n",
    "Q1i=np.linalg.inv(Q1)\n",
    "\n",
    "print(Q,'Q form')\n",
    "print(Q1,'Q form reoriented:')\n",
    "#print('Qi:',Qi)\n",
    "\n",
    "#print(flips)\n",
    "#nii.header.set_dim_info(None,None,None)\n",
    "\n",
    "#print([[0,-1*flips[0,0]],[1,-1*flips[1,1]],[2,flips[2,2]]])\n",
    "#nii=nii0.as_reoriented([[0,-1*flips[0,0]],[1,-1*flips[1,1]],[2,flips[2,2]]])\n",
    "#print(\"axes flips:\", [[0,-1*flips[0,0]],[1,-1*flips[1,1]],[2,flips[2,2]]])\n",
    "\n",
    "dcm_in_files=next(os.walk(input_dcm))[2]\n",
    "numberOfDicomImages = len(dcm_in_files)\n",
    "dcm_in_sorted=sort_dcms_by_slice_pos(input_dcm,dcm_in_files,stop_before_pixels=False)\n",
    "\n",
    "ds0=dcm_in_sorted[0]['dataset']\n",
    "dsN=dcm_in_sorted[-1]['dataset']\n",
    "\n",
    "dcm_pixeldata_type=ds0.pixel_array.dtype\n",
    "\n",
    "#dcm_in_voxels=voxel_array_from_sorted_dicoms(dcm_in_sorted)\n",
    "#transpose b/c DICOM indexing is (row,col) and NIFTI is (col,row)\n",
    "v1=nii0.get_fdata().astype(ds0.pixel_array.dtype)\n",
    "print(v1.shape)\n",
    "nii_in_voxels=nii.get_fdata().astype(ds0.pixel_array.dtype)\n",
    "#nii_in_voxels=np.transpose(nii0.get_fdata().astype(ds0.pixel_array.dtype),[1,0,2])\n",
    "print(nii_in_voxels.shape)\n",
    "\n",
    "#if dcm_in_voxels.shape != nii_in_voxels.shape:\n",
    "#    print ('NIFTI and DICOM image shapes don\\'t match!')\n",
    "#    print ('NIFTI shape:',nii_in_voxels.shape)\n",
    "#    print ('DICOM shape:',dcm_in_voxels.shape)\n",
    "   "
   ]
  },
  {
   "cell_type": "code",
   "execution_count": 115,
   "metadata": {},
   "outputs": [
    {
     "name": "stdout",
     "output_type": "stream",
     "text": [
      "[[ 1.        0.       -0.      ]\n",
      " [ 0.        0.056266  0.998416]\n",
      " [ 0.       -0.998416  0.056266]] [0 2 1]\n",
      "1\n",
      "[0.46875 0.46875 6.     ]\n",
      "[[   0.46875     0.          0.       -123.039514]\n",
      " [   0.          0.026375    5.990495  -77.880332]\n",
      " [   0.         -0.468007    0.337598  139.285009]\n",
      " [   0.          0.          0.          1.      ]]\n"
     ]
    }
   ],
   "source": [
    "IP,IO,PS,SS=np.array(ds0.ImagePositionPatient),np.array(ds0.ImageOrientationPatient),\\\n",
    "            np.array(ds0.PixelSpacing),ds0.SpacingBetweenSlices\n",
    "IO1,IO2=IO[:3],IO[3:]\n",
    "R=np.transpose(np.array([IO1,IO2,np.cross(IO1,IO2)]))\n",
    "M=np.argmax(np.abs(R),0)\n",
    "print(R,M)\n",
    "iSL=M[2] #0/1/2 for Sag/Cor/Tra\n",
    "print(iSL)\n",
    "VS=np.array([PS[0], PS[1], SS])\n",
    "print (VS)\n",
    "np.diag(VS)\n",
    "R1=np.zeros([4,4])\n",
    "R1[:3,:3]=np.dot(R,np.diag(VS))\n",
    "R1[:3,3]=IP\n",
    "R1[3,3]=1\n",
    "print(R1)\n"
   ]
  },
  {
   "cell_type": "code",
   "execution_count": 153,
   "metadata": {},
   "outputs": [
    {
     "data": {
      "text/plain": [
       "array([[ 1.      ,  0.      ,  0.      , -0.000002],\n",
       "       [ 0.      ,  1.      ,  0.      ,  0.000016],\n",
       "       [ 0.      ,  0.      ,  0.999999, -0.      ],\n",
       "       [ 0.      ,  0.      ,  0.      ,  1.      ]])"
      ]
     },
     "execution_count": 153,
     "metadata": {},
     "output_type": "execute_result"
    }
   ],
   "source": [
    "F=np.array([[1, 0, 0, 0],[0,-1,0,511],[0,0,1,0],[0,0,0,1]])\n",
    "F1=np.array([[-1, 0, 0, 0],[0,-1,0,0],[0,0,1,0],[0,0,0,1]])\n",
    "#print(F)\n",
    "#print(F1)\n",
    "np.dot(Qi,np.dot(np.dot(F1,R1),F))"
   ]
  },
  {
   "cell_type": "code",
   "execution_count": 142,
   "metadata": {},
   "outputs": [
    {
     "data": {
      "text/plain": [
       "array([[ -1.      ,   0.      ,   0.      , 524.968589],\n",
       "       [  0.      ,  -0.993668,   1.438138, 492.303294],\n",
       "       [  0.      ,  -0.008778,  -0.993667,  25.918953],\n",
       "       [  0.      ,   0.      ,   0.      ,   1.      ]])"
      ]
     },
     "execution_count": 142,
     "metadata": {},
     "output_type": "execute_result"
    }
   ],
   "source": [
    "np.dot(Qi,R1)"
   ]
  },
  {
   "cell_type": "code",
   "execution_count": 134,
   "metadata": {},
   "outputs": [
    {
     "data": {
      "text/plain": [
       "array([[   0.46875 ,    0.      ,    0.      , -123.039514],\n",
       "       [   0.      ,    0.026375,    0.      ,  -77.880332],\n",
       "       [   0.      ,   -0.468007,    0.      ,  139.285009],\n",
       "       [   0.      ,    0.      ,    0.      ,    1.      ]])"
      ]
     },
     "execution_count": 134,
     "metadata": {},
     "output_type": "execute_result"
    }
   ],
   "source": [
    "D"
   ]
  },
  {
   "cell_type": "code",
   "execution_count": 32,
   "metadata": {},
   "outputs": [
    {
     "data": {
      "text/plain": [
       "array([-123.039514,   65.891549,  147.387369])"
      ]
     },
     "execution_count": 32,
     "metadata": {},
     "output_type": "execute_result"
    }
   ],
   "source": [
    "np.array(dsN.ImagePositionPatient)"
   ]
  },
  {
   "cell_type": "code",
   "execution_count": 41,
   "metadata": {},
   "outputs": [
    {
     "data": {
      "text/plain": [
       "array([[ -0.46875 ,   0.      ,  -0.      , 123.039513],\n",
       "       [ -0.      ,   0.026375,  -5.990502,  64.402771],\n",
       "       [  0.      ,   0.468007,   0.337599, -99.866776],\n",
       "       [  0.      ,   0.      ,   0.      ,   1.      ]])"
      ]
     },
     "execution_count": 41,
     "metadata": {},
     "output_type": "execute_result"
    }
   ],
   "source": [
    "Q"
   ]
  },
  {
   "cell_type": "code",
   "execution_count": 150,
   "metadata": {},
   "outputs": [
    {
     "name": "stdout",
     "output_type": "stream",
     "text": [
      "[[  1   0   0   0]\n",
      " [  0  -1   0 512]\n",
      " [  0   0   1   0]\n",
      " [  0   0   0   1]]\n"
     ]
    }
   ],
   "source": [
    "F=np.array([[1, 0, 0, 0],[0,-1,0,512],[0,0,1,0],[0,0,0,1]])\n",
    "print(F)"
   ]
  },
  {
   "cell_type": "code",
   "execution_count": 151,
   "metadata": {},
   "outputs": [
    {
     "name": "stdout",
     "output_type": "stream",
     "text": [
      "[[-1  0  0  0]\n",
      " [ 0  1  0  0]\n",
      " [ 0  0  1  0]\n",
      " [ 0  0  0  1]]\n"
     ]
    }
   ],
   "source": [
    "F1=np.array([[-1, 0, 0, 0],[0,1,0,0],[0,0,1,0],[0,0,0,1]])\n",
    "print(F1)"
   ]
  },
  {
   "cell_type": "code",
   "execution_count": 152,
   "metadata": {},
   "outputs": [
    {
     "data": {
      "text/plain": [
       "array([[ -0.46875 ,   0.      ,   0.      , 123.039513],\n",
       "       [  0.      ,  -0.026375,  -5.990502,  77.906706],\n",
       "       [  0.      ,  -0.468007,   0.337599, 139.753006],\n",
       "       [  0.      ,   0.      ,   0.      ,   1.      ]])"
      ]
     },
     "execution_count": 152,
     "metadata": {},
     "output_type": "execute_result"
    }
   ],
   "source": [
    "np.dot(Q,F)"
   ]
  },
  {
   "cell_type": "code",
   "execution_count": 44,
   "metadata": {},
   "outputs": [
    {
     "name": "stdout",
     "output_type": "stream",
     "text": [
      "S [-123.039514  -77.880332  139.285009]\n",
      "X [ 1.        0.        0.        0.        0.056266 -0.998416]\n",
      "delta [0.46875 0.46875]\n",
      "D [[   0.46875     0.          0.       -123.039514]\n",
      " [   0.          0.026375    0.        -77.880332]\n",
      " [   0.         -0.468007    0.        139.285009]\n",
      " [   0.          0.          0.          1.      ]]\n",
      "[-123.039514  -77.880332  139.285009    1.      ] X0\n",
      "[-122.570764  -77.880332  139.285009    1.      ] XX\n",
      "[-123.039514  -77.853957  138.817002    1.      ] XY\n",
      "[-123.039514  -77.880332  139.285009    1.      ] XZ\n"
     ]
    }
   ],
   "source": [
    "S,X,delta=np.array(ds0.ImagePositionPatient),np.array(ds0.ImageOrientationPatient),\\\n",
    "            np.array(ds0.PixelSpacing)\n",
    "D=np.array([[X[0]*delta[0],X[3]*delta[1],0,S[0]],\\\n",
    "                    [X[1]*delta[0],X[4]*delta[1],0,S[1]],\\\n",
    "                    [X[2]*delta[0],X[5]*delta[1],0,S[2]],\\\n",
    "                    [0,0,0,1]])\n",
    "print('S',S)\n",
    "print('X',X)\n",
    "print('delta',delta)\n",
    "print('D',D)\n",
    "\n",
    "X0=np.array([0,0,0,1])\n",
    "XX=np.array([1,0,0,1])\n",
    "XY=np.array([0,1,0,1])\n",
    "XZ=np.array([0,0,1,1])\n",
    "\n",
    "print(np.dot(D,X0),'X0')\n",
    "print(np.dot(D,XX),'XX')\n",
    "print(np.dot(D,XY),'XY')\n",
    "print(np.dot(D,XZ),'XZ')\n"
   ]
  },
  {
   "cell_type": "code",
   "execution_count": 6,
   "metadata": {},
   "outputs": [
    {
     "name": "stdout",
     "output_type": "stream",
     "text": [
      "S1 [-123.0395   65.8915  147.3874]\n",
      "X1 [ 1.      0.      0.      0.      0.0563 -0.9984]\n",
      "delta [0.4688 0.4688]\n",
      "D1 [[   0.4688    0.        0.     -123.0395]\n",
      " [   0.        0.0264    0.       65.8915]\n",
      " [   0.       -0.468     0.      147.3874]\n",
      " [   0.        0.        0.        1.    ]]\n"
     ]
    }
   ],
   "source": [
    "S1,X1,delta=np.array(dsN.ImagePositionPatient),np.array(dsN.ImageOrientationPatient),\\\n",
    "            np.array(dsN.PixelSpacing)\n",
    "D1=np.array([[X1[0]*delta[0],X1[3]*delta[1],0,S1[0]],\\\n",
    "                    [X1[1]*delta[0],X1[4]*delta[1],0,S1[1]],\\\n",
    "                    [X1[2]*delta[0],X1[5]*delta[1],0,S1[2]],\\\n",
    "                    [0,0,0,1]])\n",
    "print('S1',S1)\n",
    "print('X1',X1)\n",
    "print('delta',delta)\n",
    "print('D1',D1)"
   ]
  },
  {
   "cell_type": "code",
   "execution_count": 7,
   "metadata": {},
   "outputs": [
    {
     "name": "stdout",
     "output_type": "stream",
     "text": [
      "[[ -1.       0.       0.     524.9686]\n",
      " [  0.       0.9937   0.      18.6967]\n",
      " [  0.       0.0088   0.      -1.919 ]\n",
      " [  0.       0.       0.       1.    ]]\n"
     ]
    }
   ],
   "source": [
    "Q1iD=np.dot(Q1i,D)\n",
    "print(Q1iD)"
   ]
  },
  {
   "cell_type": "code",
   "execution_count": null,
   "metadata": {},
   "outputs": [],
   "source": [
    "np.dot(Q1iD,X0)"
   ]
  },
  {
   "cell_type": "code",
   "execution_count": null,
   "metadata": {},
   "outputs": [],
   "source": [
    "Q1iD1=np.dot(Q1i,D1)\n",
    "print(Q1iD1)\n",
    "np.dot(Q1iD1,X0)"
   ]
  },
  {
   "cell_type": "code",
   "execution_count": 149,
   "metadata": {},
   "outputs": [],
   "source": [
    "flipX,flipY,flipZ=False,True,False\n",
    "if flipX: nii_in_voxels=np.flip(nii_in_voxels,0)\n",
    "if flipY: nii_in_voxels=np.flip(nii_in_voxels,1)\n",
    "if flipZ: nii_in_voxels=np.flip(nii_in_voxels,2)\n",
    "\n",
    "siUID=pydicom.uid.generate_uid() if newSeriesInstanceUID == 'auto' else newSeriesInstanceUID\n",
    "sDescr=ds.SeriesDescription if newSeriesDescription is None else newSeriesDescription\n",
    "sNumber=ds.SeriesNumber if newSeriesNumber is None else newSeriesNumber\n",
    "\n",
    "#cycle through input DICOM datasets and replace voxels.\n",
    "for i in range(len(dcm_in_sorted)):\n",
    "    ds=dcm_in_sorted[i]['dataset']\n",
    "    ds.PixelData=np.transpose(nii_in_voxels[:,:,i]).tobytes()\n",
    "    #populate_pixeldata(nii_in_voxels, ds, Q1i)\n",
    "    ds[0x0020, 0x000e].value=siUID\n",
    "    ds[0x0008,0x103e].value=sDescr\n",
    "    ds[0x0020, 0x0011].value=sNumber    \n",
    "    ds.save_as(output_dcm+'/'+str(i)+'.dcm')\n",
    "    "
   ]
  },
  {
   "cell_type": "code",
   "execution_count": null,
   "metadata": {},
   "outputs": [],
   "source": [
    "flipZ\n"
   ]
  },
  {
   "cell_type": "code",
   "execution_count": null,
   "metadata": {},
   "outputs": [],
   "source": [
    "from matplotlib import pyplot as plt\n",
    "%matplotlib inline\n",
    "plt.imshow(ds.pixel_array, interpolation='nearest')\n"
   ]
  }
 ],
 "metadata": {
  "kernelspec": {
   "display_name": "Python 3",
   "language": "python",
   "name": "python3"
  },
  "language_info": {
   "codemirror_mode": {
    "name": "ipython",
    "version": 3
   },
   "file_extension": ".py",
   "mimetype": "text/x-python",
   "name": "python",
   "nbconvert_exporter": "python",
   "pygments_lexer": "ipython3",
   "version": "3.6.4"
  }
 },
 "nbformat": 4,
 "nbformat_minor": 2
}
